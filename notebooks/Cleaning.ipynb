{
 "cells": [
  {
   "cell_type": "markdown",
   "id": "50fac1b5-2716-4954-8588-15335a9a0759",
   "metadata": {},
   "source": [
    "# Craigslist Dataset - Clean the data\n",
    "\n",
    "\n",
    "This notebook applies all the **filters** that we explored in **`Craigslist_Car_Listings_Scraper.ipynb`**"
   ]
  },
  {
   "cell_type": "markdown",
   "id": "ac605481-76a2-4cb3-9da2-ca0fcb55f6de",
   "metadata": {},
   "source": [
    "## Import the dataset"
   ]
  },
  {
   "cell_type": "code",
   "execution_count": 3,
   "id": "1468d21e-709b-412e-aa5a-69c904526890",
   "metadata": {
    "scrolled": true
   },
   "outputs": [],
   "source": [
    "import pandas as pd\n",
    "\n",
    "df = pd.read_csv(\"../data/all-vehicles-model__enriched.csv\")"
   ]
  },
  {
   "cell_type": "markdown",
   "id": "26575549-9e4c-4e40-af77-b771c51102b9",
   "metadata": {},
   "source": [
    "## Remove duplicates"
   ]
  },
  {
   "cell_type": "code",
   "execution_count": 5,
   "id": "53f39f9a-eaa6-4b43-bc87-398c30474d6e",
   "metadata": {},
   "outputs": [],
   "source": [
    "df = df.drop_duplicates(subset='url')\n",
    "df = df.sort_values('posted_at',ascending = False).drop_duplicates(subset=[col for col in df.columns if col not in ['url', 'region','location', 'state','date','Day','posted_at']], keep='first')"
   ]
  },
  {
   "cell_type": "markdown",
   "id": "204423a4-e517-4092-a58b-41911136de08",
   "metadata": {},
   "source": [
    "## Dealer / Owner"
   ]
  },
  {
   "cell_type": "code",
   "execution_count": 7,
   "id": "6f616b2e-855a-4de9-9dab-748c860bbbe6",
   "metadata": {
    "scrolled": true
   },
   "outputs": [],
   "source": [
    "df.insert(2, 'seller', df['url'].str.extract(r'/([a-z]+)/d/')[0].map({'cto': 'owner', 'ctd': 'dealer'}))"
   ]
  },
  {
   "cell_type": "markdown",
   "id": "276e5af5-974c-43fb-8c3c-5427a64a81de",
   "metadata": {},
   "source": [
    "## Date and Day of publication"
   ]
  },
  {
   "cell_type": "code",
   "execution_count": 9,
   "id": "692c0260-3a50-46f0-96ea-a9a60e28d419",
   "metadata": {},
   "outputs": [],
   "source": [
    "df['posted_at'] = pd.to_datetime(df['posted_at'], format=\"%Y-%m-%d\", errors='coerce')\n",
    "df['Day'] = df['posted_at'].dt.day_name()"
   ]
  },
  {
   "cell_type": "markdown",
   "id": "b1e178a5-184c-471e-9f03-e1ca76aac184",
   "metadata": {},
   "source": [
    "## Numericals Values"
   ]
  },
  {
   "cell_type": "code",
   "execution_count": 11,
   "id": "a566561f-e4f0-4f2b-9285-8488e82c0788",
   "metadata": {
    "scrolled": true
   },
   "outputs": [],
   "source": [
    "df['price'] = pd.to_numeric(df['price'].str.replace(r'[\\$,]', '', regex=True).replace('', pd.NA), errors='coerce').astype('Int64')\n",
    "df['odometer'] = pd.to_numeric(df['odometer'].str.replace(r'[\\,]', '', regex=True).replace('', pd.NA), errors='coerce').astype('Int64')\n",
    "df['age'] = 2025 - df['year']\n",
    "\n",
    "df = df[(df['price'] >= 2500) & (df['price'] < 1000000)]\n",
    "df = df[(df['year'] >= 1985) & (df['year'] <= 2025)]\n",
    "df = df[(df['odometer'] >= 5) & (df['odometer'] <= 350000)]"
   ]
  },
  {
   "cell_type": "markdown",
   "id": "0cc714f5-f4a5-42a3-ba26-9269bd1339bb",
   "metadata": {},
   "source": [
    "## Unknown models"
   ]
  },
  {
   "cell_type": "code",
   "execution_count": 13,
   "id": "b62cc204-e590-4204-b1ea-3c24a5b47500",
   "metadata": {},
   "outputs": [],
   "source": [
    "df = df[~df['model'].isna()]"
   ]
  },
  {
   "cell_type": "markdown",
   "id": "d4ff5ede-528a-4ce2-b9ca-2edcb55f4049",
   "metadata": {},
   "source": [
    "## Log Price"
   ]
  },
  {
   "cell_type": "code",
   "execution_count": 16,
   "id": "3c06367f-f59e-475c-8dc3-91891f0ebfd7",
   "metadata": {},
   "outputs": [],
   "source": [
    "import numpy as np\n",
    "df['log_price'] = np.log(df['price']+1)"
   ]
  },
  {
   "cell_type": "markdown",
   "id": "bf0935e0-a933-4761-9633-94ac7c378487",
   "metadata": {},
   "source": [
    "## Save"
   ]
  },
  {
   "cell_type": "code",
   "execution_count": 19,
   "id": "a39c778c-b9a3-4a83-8593-212d30694464",
   "metadata": {},
   "outputs": [],
   "source": [
    "df.to_excel(\"../data/df_cleaned.xlsx\", index=False)"
   ]
  }
 ],
 "metadata": {
  "kernelspec": {
   "display_name": "Python [conda env:base] *",
   "language": "python",
   "name": "conda-base-py"
  },
  "language_info": {
   "codemirror_mode": {
    "name": "ipython",
    "version": 3
   },
   "file_extension": ".py",
   "mimetype": "text/x-python",
   "name": "python",
   "nbconvert_exporter": "python",
   "pygments_lexer": "ipython3",
   "version": "3.12.7"
  }
 },
 "nbformat": 4,
 "nbformat_minor": 5
}
