{
 "cells": [
  {
   "cell_type": "markdown",
   "id": "3488e107",
   "metadata": {},
   "source": [
    "# Craigslist Car Listings Scraper\n",
    "\n",
    "## Objective\n",
    "\n",
    "Here, we will see how to **collect used car listings** from multiple U.S. cities on Craigslist, in order to analyze market trends, pricing behaviors, and potential anomalies.\n",
    "\n",
    "## Challenges\n",
    "\n",
    "Craigslist’s structure doesn't allow straight forward web scraping:\n",
    "\n",
    "- URLs: They are **city-specific** (e.g., `newyork.craigslist.org`, `losangeles.craigslist.org`)\n",
    "- Listings: The page **dynamically load the listings** as we scroll the page.\n",
    "- Traditional scraping libraries like `requests` won't be able to retrieve the full content.\n",
    "\n",
    "## Solutions?\n",
    "\n",
    "To outsmart this:\n",
    "\n",
    "- We can use **Selenium** to simulate real user behavior (scrolling, waiting, rendering).\n",
    "- Then passed the fully loaded HTML to **BeautifulSoup** for fast and clean parsing.\n",
    "\n",
    "Doing so, we will have all the listings of a city."
   ]
  },
  {
   "cell_type": "markdown",
   "id": "c187345a-69e7-4a35-9ea0-dc5e43922822",
   "metadata": {},
   "source": [
    "## Identify the URL for each city/area.\n",
    "\n",
    "We identified a general structure for the url of Craiglist search:\n",
    "\n",
    "**https://<ins>*CITY_CODE*</ins>.craigslist.org/search/<ins>*CATEGORY_CODE*</ins>**\n",
    "\n",
    "***CITY_CODE:*** Correspond to a referential used by Craiglist. We can find the list of the cities/areas here: https://www.craigslist.org/about/sites. For the upcomming Data Science project, we will focus on  <ins>20 large US Cities</ins>:\n",
    "* San Francisco Bay Area, California: **sfbay**\n",
    "* Los Angeles, California: **losangeles**\n",
    "* New York, New York: **newyork**\n",
    "* Seattle, Washington: **seattle**\n",
    "* Chicago, Illinois: **chicago**\n",
    "* Orange County, California: **orangecounty**\n",
    "* San Diego, California: **sandiego**\n",
    "* Washington, D.C.: **washingtondc**\n",
    "* Boston, Massachusetts: **boston**\n",
    "* Portland, Oregon: **portland**\n",
    "* Atlanta, Georgia: **atlanta**\n",
    "* Phoenix, Arizona: **phoenix**\n",
    "* Dallas, Texas: **dallas**\n",
    "* Denver, Colorado: **denver**\n",
    "* Miami, Florida: **miami**\n",
    "* Inland Empire, California: **inlandempire**\n",
    "* Sacramento, California: **sacramento**\n",
    "* Austin, Texas: **austin**\n",
    "* Minneapolis, Minnesota: **minneapolis**\n",
    "* Philadelphia, Pennsylvania: **philadelphia**\n",
    "\n",
    "  *Note: The user would be able to select any cities he is looking for.*\n",
    "\n",
    "\n",
    "\n",
    "\n",
    "\n",
    "\n",
    "***COUNTRY_CODE:*** Correspond to a referential used by Craiglist. We can find the list of the categories by using any Homepage (e.g https://newyork.craigslist.org/ for NYC).\n",
    "We will be looking only for:\n",
    "* Cars+Trucks: **cta**"
   ]
  },
  {
   "cell_type": "markdown",
   "id": "733ec1bc-506d-40d2-a279-6c3924a19029",
   "metadata": {},
   "source": [
    "### Select Cities and Generate URLs"
   ]
  },
  {
   "cell_type": "markdown",
   "id": "95232c08-08a6-45dd-aa08-726a43324df9",
   "metadata": {},
   "source": [
    "We can write a function to **generate the url** associated to them."
   ]
  },
  {
   "cell_type": "code",
   "execution_count": 5,
   "id": "b8526fe5-5386-49e3-85cc-81da74840ede",
   "metadata": {},
   "outputs": [],
   "source": [
    "def generate_urls(cities, category=\"cta\"):\n",
    "    \"\"\"\n",
    "    Given a list \n",
    "    of city codes, return a list of Craigslist search URLs for the specified category.\n",
    "    Default category is 'cta' = cars+trucks.\n",
    "    \"\"\"\n",
    "    return [f\"https://{city}.craigslist.org/search/{category}?bundleDuplicates=1\" for city in cities]"
   ]
  },
  {
   "cell_type": "markdown",
   "id": "57c581f6-8cf2-4640-a089-3ad0bb1e41ea",
   "metadata": {},
   "source": [
    "We create a **list with the cities** to be scrapped and **call the function** on it."
   ]
  },
  {
   "cell_type": "code",
   "execution_count": 7,
   "id": "c0967592-4846-42fe-b398-d830731b41cd",
   "metadata": {},
   "outputs": [
    {
     "name": "stdout",
     "output_type": "stream",
     "text": [
      "Selected urls to be scrapped:['https://sfbay.craigslist.org/search/cta?bundleDuplicates=1', 'https://losangeles.craigslist.org/search/cta?bundleDuplicates=1', 'https://newyork.craigslist.org/search/cta?bundleDuplicates=1', 'https://seattle.craigslist.org/search/cta?bundleDuplicates=1', 'https://chicago.craigslist.org/search/cta?bundleDuplicates=1', 'https://orangecounty.craigslist.org/search/cta?bundleDuplicates=1', 'https://sandiego.craigslist.org/search/cta?bundleDuplicates=1', 'https://washingtondc.craigslist.org/search/cta?bundleDuplicates=1', 'https://boston.craigslist.org/search/cta?bundleDuplicates=1', 'https://portland.craigslist.org/search/cta?bundleDuplicates=1', 'https://atlanta.craigslist.org/search/cta?bundleDuplicates=1', 'https://phoenix.craigslist.org/search/cta?bundleDuplicates=1', 'https://dallas.craigslist.org/search/cta?bundleDuplicates=1', 'https://denver.craigslist.org/search/cta?bundleDuplicates=1', 'https://miami.craigslist.org/search/cta?bundleDuplicates=1', 'https://inlandempire.craigslist.org/search/cta?bundleDuplicates=1', 'https://sacramento.craigslist.org/search/cta?bundleDuplicates=1', 'https://austin.craigslist.org/search/cta?bundleDuplicates=1', 'https://minneapolis.craigslist.org/search/cta?bundleDuplicates=1', 'https://philadelphia.craigslist.org/search/cta?bundleDuplicates=1']\n"
     ]
    }
   ],
   "source": [
    "cities = ['sfbay',\n",
    "        'losangeles',\n",
    "        'newyork',\n",
    "        'seattle',\n",
    "        'chicago',\n",
    "        'orangecounty',\n",
    "        'sandiego',\n",
    "        'washingtondc',\n",
    "        'boston',\n",
    "        'portland',\n",
    "        'atlanta',\n",
    "        'phoenix',\n",
    "        'dallas',\n",
    "        'denver',\n",
    "        'miami',\n",
    "        'inlandempire',\n",
    "        'sacramento',\n",
    "        'austin',\n",
    "        'minneapolis',\n",
    "        'philadelphia']\n",
    "\n",
    "URLs = generate_urls(cities, category=\"cta\")\n",
    "\n",
    "print(f'Selected urls to be scrapped:{URLs}')"
   ]
  },
  {
   "cell_type": "markdown",
   "id": "4c7d38bd-5b04-4179-a134-6273c4723b88",
   "metadata": {},
   "source": [
    "We generated all the **URLs** redirecting to the appropriate website."
   ]
  },
  {
   "cell_type": "markdown",
   "id": "3c6015bd-be0a-4030-8bf7-1b6973edabdf",
   "metadata": {},
   "source": [
    "## Get the full HTML of a Craglist search by using Selenium and Beautiful Soup.\n",
    "\n",
    "Next up: we want to grab the **entire page of car listings** for a specific city.\n",
    "\n",
    "But here’s the hic — as mentioned earlier, Craigslist loads new listings **on scroll**. If we just scrape the page source as-is, we only get the top chunk — not the full list.\n",
    "To beat that, we bring in **Selenium** to simulate real user behavior: scroll, wait, repeat.  \n",
    "\n",
    "Once the full content is loaded, we **capture the HTML** and save it locally for parsing."
   ]
  },
  {
   "cell_type": "markdown",
   "id": "94409aa7-7f52-4dee-8568-5e38ba15e865",
   "metadata": {},
   "source": [
    "### Selenium Configuration\n",
    "\n",
    "Here we import packages and configure the **driver**.\n",
    "\n",
    "To automate the scraping process, we rely on **Selenium**, which allows us to control a browser programmatically. Since Craigslist loads content dynamically as the user scrolls, a classic scraping will not capture everything — we need to simulate real user behavior.\n",
    "\n",
    "- We use `webdriver_manager` to automatically download the right version of ChromeDriver (no manual setup required).\n",
    "- The `--headless` option allows Chrome to run in the background without opening a window.\n",
    "- `--no-sandbox` and the custom window size are added to ensure compatibility and stability.\n",
    "\n",
    "Finally, we initialize the driver using all these options, ready to interact with Craigslist pages just like a human would."
   ]
  },
  {
   "cell_type": "code",
   "execution_count": 13,
   "id": "01bb343d-faa3-4585-a2b2-785a7f9e60ed",
   "metadata": {},
   "outputs": [],
   "source": [
    "#Packages\n",
    "from selenium import webdriver\n",
    "from selenium.webdriver.common.by import By\n",
    "from selenium.webdriver.chrome.options import Options\n",
    "from selenium.webdriver.chrome.service import Service\n",
    "from webdriver_manager.chrome import ChromeDriverManager\n",
    "\n",
    "#Set Up\n",
    "chrome_options = Options()\n",
    "chrome_options.add_argument('--headless')\n",
    "chrome_options.add_argument('--no-sandbox')\n",
    "chrome_options.add_argument('--window-size=1920,1080')\n",
    "\n",
    "driver = webdriver.Chrome(service=Service(ChromeDriverManager().install()), options=chrome_options)"
   ]
  },
  {
   "cell_type": "markdown",
   "id": "4a871b47-f64f-47cd-b26c-09a1991ed71e",
   "metadata": {},
   "source": [
    "### Scrape a Full Craigslist Page\n",
    "\n",
    "This **function** handles the core of our **scraping logic**.\n",
    "\n",
    "Craigslist listings load progressively as the user scrolls. To retrieve **all** car ads for a city, we simulate this behavior using Selenium:\n",
    "\n",
    "- We load the target URL and begin **scrolling down the page in increments**.\n",
    "- After each scroll, we **capture the current HTML with BeautifulSoup** and store it in fragments.\n",
    "- The loop continues until we reach the **bottom of the page**.\n",
    "\n",
    "Once all **fragments are collected**, they are merged and saved locally in a `.txt` file.\n",
    "\n",
    "*This step is crucial — without scrolling, we would miss the majority of the listings.*"
   ]
  },
  {
   "cell_type": "code",
   "execution_count": 23,
   "id": "0086fbef-122f-4d1d-ad11-603f45baa48e",
   "metadata": {},
   "outputs": [],
   "source": [
    "import time\n",
    "from bs4 import BeautifulSoup\n",
    "from pathlib import Path\n",
    "\n",
    "def scrap_url(city, url, driver, pause_time):\n",
    "    \"\"\"\n",
    "    Scroll the city's Craigslist page and save the HTML content to a local file.\n",
    "    \"\"\"\n",
    "    print(f\"Scraping: {url}\")\n",
    "    driver.get(url)\n",
    "    time.sleep(10 * pause_time)\n",
    "\n",
    "    html_fragments = []\n",
    "    previous_scroll_position = 0\n",
    "    scroll_count = 0\n",
    "\n",
    "    while True:\n",
    "        current_view = BeautifulSoup(driver.page_source, 'html.parser')\n",
    "        html_fragments.append(str(current_view.body))\n",
    "        driver.execute_script(\"window.scrollBy(0, 2 * window.innerHeight);\")\n",
    "        time.sleep(pause_time)\n",
    "\n",
    "        new_scroll_position = driver.execute_script(\"return window.scrollY + 2 * window.innerHeight;\")\n",
    "        total_page_height = driver.execute_script(\"return document.body.scrollHeight;\")\n",
    "\n",
    "        if new_scroll_position >= total_page_height:\n",
    "            print(f\"End of Scrolling for {city}.\")\n",
    "            break\n",
    "        if new_scroll_position == previous_scroll_position:\n",
    "            print(f\"Scrolling blocked on {city}.\")\n",
    "            break\n",
    "\n",
    "        previous_scroll_position = new_scroll_position\n",
    "        scroll_count += 1\n",
    "        if scroll_count % 100 == 0:\n",
    "            print(f\"Scroll #{scroll_count} for {url}\")\n",
    "\n",
    "    # Save HTML to file\n",
    "    full_html = ''.join(html_fragments)\n",
    "    output_dir = Path(\"../outputs/html_dumps\")\n",
    "    output_dir.mkdir(parents=True, exist_ok=True)\n",
    "    file_path = output_dir / f\"{city}_craiglist_html_dump.txt\"\n",
    "\n",
    "    with open(file_path, \"w\", encoding=\"utf-8\") as f:\n",
    "        f.write(full_html)\n",
    "    print(f\"Total HTML fragments collected: {len(html_fragments)}\")\n",
    "    print(f\"Final scroll count: {scroll_count}\")\n",
    "    print(f\"💾 HTML saved to {file_path.resolve()}\")"
   ]
  },
  {
   "cell_type": "markdown",
   "id": "146fd1d7-b610-4bae-944a-e4e3c934b79f",
   "metadata": {},
   "source": [
    "Let's use the **scrap_url** function on the cities previously selected."
   ]
  },
  {
   "cell_type": "code",
   "execution_count": 26,
   "id": "3eae496d-9dec-4d02-b371-9606bfdda50b",
   "metadata": {
    "scrolled": true
   },
   "outputs": [
    {
     "name": "stdout",
     "output_type": "stream",
     "text": [
      "Scraping: https://sfbay.craigslist.org/search/cta?bundleDuplicates=1\n",
      "Scroll #100 for https://sfbay.craigslist.org/search/cta?bundleDuplicates=1\n",
      "Scroll #200 for https://sfbay.craigslist.org/search/cta?bundleDuplicates=1\n",
      "Scroll #300 for https://sfbay.craigslist.org/search/cta?bundleDuplicates=1\n",
      "End of Scrolling for sfbay.\n",
      "Total HTML fragments collected: 365\n",
      "Final scroll count: 364\n",
      "💾 HTML saved to C:\\Users\\Mohamed\\Craiglist_Project2\\outputs\\html_dumps\\sfbay_craiglist_html_dump.txt\n",
      "Scraping: https://losangeles.craigslist.org/search/cta?bundleDuplicates=1\n",
      "Scroll #100 for https://losangeles.craigslist.org/search/cta?bundleDuplicates=1\n",
      "Scroll #200 for https://losangeles.craigslist.org/search/cta?bundleDuplicates=1\n",
      "Scroll #300 for https://losangeles.craigslist.org/search/cta?bundleDuplicates=1\n",
      "End of Scrolling for losangeles.\n",
      "Total HTML fragments collected: 332\n",
      "Final scroll count: 331\n",
      "💾 HTML saved to C:\\Users\\Mohamed\\Craiglist_Project2\\outputs\\html_dumps\\losangeles_craiglist_html_dump.txt\n",
      "Scraping: https://newyork.craigslist.org/search/cta?bundleDuplicates=1\n",
      "Scroll #100 for https://newyork.craigslist.org/search/cta?bundleDuplicates=1\n",
      "Scroll #200 for https://newyork.craigslist.org/search/cta?bundleDuplicates=1\n",
      "End of Scrolling for newyork.\n",
      "Total HTML fragments collected: 218\n",
      "Final scroll count: 217\n",
      "💾 HTML saved to C:\\Users\\Mohamed\\Craiglist_Project2\\outputs\\html_dumps\\newyork_craiglist_html_dump.txt\n",
      "Scraping: https://seattle.craigslist.org/search/cta?bundleDuplicates=1\n",
      "Scroll #100 for https://seattle.craigslist.org/search/cta?bundleDuplicates=1\n",
      "Scroll #200 for https://seattle.craigslist.org/search/cta?bundleDuplicates=1\n",
      "Scroll #300 for https://seattle.craigslist.org/search/cta?bundleDuplicates=1\n",
      "End of Scrolling for seattle.\n",
      "Total HTML fragments collected: 355\n",
      "Final scroll count: 354\n",
      "💾 HTML saved to C:\\Users\\Mohamed\\Craiglist_Project2\\outputs\\html_dumps\\seattle_craiglist_html_dump.txt\n",
      "Scraping: https://chicago.craigslist.org/search/cta?bundleDuplicates=1\n",
      "Scroll #100 for https://chicago.craigslist.org/search/cta?bundleDuplicates=1\n",
      "End of Scrolling for chicago.\n",
      "Total HTML fragments collected: 189\n",
      "Final scroll count: 188\n",
      "💾 HTML saved to C:\\Users\\Mohamed\\Craiglist_Project2\\outputs\\html_dumps\\chicago_craiglist_html_dump.txt\n",
      "Scraping: https://orangecounty.craigslist.org/search/cta?bundleDuplicates=1\n",
      "Scroll #100 for https://orangecounty.craigslist.org/search/cta?bundleDuplicates=1\n",
      "End of Scrolling for orangecounty.\n",
      "Total HTML fragments collected: 181\n",
      "Final scroll count: 180\n",
      "💾 HTML saved to C:\\Users\\Mohamed\\Craiglist_Project2\\outputs\\html_dumps\\orangecounty_craiglist_html_dump.txt\n",
      "Scraping: https://sandiego.craigslist.org/search/cta?bundleDuplicates=1\n",
      "Scroll #100 for https://sandiego.craigslist.org/search/cta?bundleDuplicates=1\n",
      "Scroll #200 for https://sandiego.craigslist.org/search/cta?bundleDuplicates=1\n",
      "Scroll #300 for https://sandiego.craigslist.org/search/cta?bundleDuplicates=1\n",
      "End of Scrolling for sandiego.\n",
      "Total HTML fragments collected: 303\n",
      "Final scroll count: 302\n",
      "💾 HTML saved to C:\\Users\\Mohamed\\Craiglist_Project2\\outputs\\html_dumps\\sandiego_craiglist_html_dump.txt\n",
      "Scraping: https://washingtondc.craigslist.org/search/cta?bundleDuplicates=1\n",
      "End of Scrolling for washingtondc.\n",
      "Total HTML fragments collected: 1\n",
      "Final scroll count: 0\n",
      "💾 HTML saved to C:\\Users\\Mohamed\\Craiglist_Project2\\outputs\\html_dumps\\washingtondc_craiglist_html_dump.txt\n",
      "Scraping: https://boston.craigslist.org/search/cta?bundleDuplicates=1\n",
      "Scroll #100 for https://boston.craigslist.org/search/cta?bundleDuplicates=1\n",
      "End of Scrolling for boston.\n",
      "Total HTML fragments collected: 135\n",
      "Final scroll count: 134\n",
      "💾 HTML saved to C:\\Users\\Mohamed\\Craiglist_Project2\\outputs\\html_dumps\\boston_craiglist_html_dump.txt\n",
      "Scraping: https://portland.craigslist.org/search/cta?bundleDuplicates=1\n",
      "Scroll #100 for https://portland.craigslist.org/search/cta?bundleDuplicates=1\n",
      "Scroll #200 for https://portland.craigslist.org/search/cta?bundleDuplicates=1\n",
      "Scroll #300 for https://portland.craigslist.org/search/cta?bundleDuplicates=1\n",
      "End of Scrolling for portland.\n",
      "Total HTML fragments collected: 324\n",
      "Final scroll count: 323\n",
      "💾 HTML saved to C:\\Users\\Mohamed\\Craiglist_Project2\\outputs\\html_dumps\\portland_craiglist_html_dump.txt\n",
      "Scraping: https://atlanta.craigslist.org/search/cta?bundleDuplicates=1\n",
      "Scroll #100 for https://atlanta.craigslist.org/search/cta?bundleDuplicates=1\n",
      "End of Scrolling for atlanta.\n",
      "Total HTML fragments collected: 187\n",
      "Final scroll count: 186\n",
      "💾 HTML saved to C:\\Users\\Mohamed\\Craiglist_Project2\\outputs\\html_dumps\\atlanta_craiglist_html_dump.txt\n",
      "Scraping: https://phoenix.craigslist.org/search/cta?bundleDuplicates=1\n",
      "Scroll #100 for https://phoenix.craigslist.org/search/cta?bundleDuplicates=1\n",
      "Scroll #200 for https://phoenix.craigslist.org/search/cta?bundleDuplicates=1\n",
      "Scroll #300 for https://phoenix.craigslist.org/search/cta?bundleDuplicates=1\n",
      "End of Scrolling for phoenix.\n",
      "Total HTML fragments collected: 362\n",
      "Final scroll count: 361\n",
      "💾 HTML saved to C:\\Users\\Mohamed\\Craiglist_Project2\\outputs\\html_dumps\\phoenix_craiglist_html_dump.txt\n",
      "Scraping: https://dallas.craigslist.org/search/cta?bundleDuplicates=1\n",
      "Scroll #100 for https://dallas.craigslist.org/search/cta?bundleDuplicates=1\n",
      "Scroll #200 for https://dallas.craigslist.org/search/cta?bundleDuplicates=1\n",
      "Scroll #300 for https://dallas.craigslist.org/search/cta?bundleDuplicates=1\n",
      "End of Scrolling for dallas.\n",
      "Total HTML fragments collected: 331\n",
      "Final scroll count: 330\n",
      "💾 HTML saved to C:\\Users\\Mohamed\\Craiglist_Project2\\outputs\\html_dumps\\dallas_craiglist_html_dump.txt\n",
      "Scraping: https://denver.craigslist.org/search/cta?bundleDuplicates=1\n",
      "Scroll #100 for https://denver.craigslist.org/search/cta?bundleDuplicates=1\n",
      "Scroll #200 for https://denver.craigslist.org/search/cta?bundleDuplicates=1\n",
      "Scroll #300 for https://denver.craigslist.org/search/cta?bundleDuplicates=1\n",
      "End of Scrolling for denver.\n",
      "Total HTML fragments collected: 361\n",
      "Final scroll count: 360\n",
      "💾 HTML saved to C:\\Users\\Mohamed\\Craiglist_Project2\\outputs\\html_dumps\\denver_craiglist_html_dump.txt\n",
      "Scraping: https://miami.craigslist.org/search/cta?bundleDuplicates=1\n",
      "Scroll #100 for https://miami.craigslist.org/search/cta?bundleDuplicates=1\n",
      "Scroll #200 for https://miami.craigslist.org/search/cta?bundleDuplicates=1\n",
      "Scroll #300 for https://miami.craigslist.org/search/cta?bundleDuplicates=1\n",
      "End of Scrolling for miami.\n",
      "Total HTML fragments collected: 355\n",
      "Final scroll count: 354\n",
      "💾 HTML saved to C:\\Users\\Mohamed\\Craiglist_Project2\\outputs\\html_dumps\\miami_craiglist_html_dump.txt\n",
      "Scraping: https://inlandempire.craigslist.org/search/cta?bundleDuplicates=1\n",
      "Scroll #100 for https://inlandempire.craigslist.org/search/cta?bundleDuplicates=1\n",
      "End of Scrolling for inlandempire.\n",
      "Total HTML fragments collected: 172\n",
      "Final scroll count: 171\n",
      "💾 HTML saved to C:\\Users\\Mohamed\\Craiglist_Project2\\outputs\\html_dumps\\inlandempire_craiglist_html_dump.txt\n",
      "Scraping: https://sacramento.craigslist.org/search/cta?bundleDuplicates=1\n",
      "Scroll #100 for https://sacramento.craigslist.org/search/cta?bundleDuplicates=1\n",
      "Scroll #200 for https://sacramento.craigslist.org/search/cta?bundleDuplicates=1\n",
      "Scroll #300 for https://sacramento.craigslist.org/search/cta?bundleDuplicates=1\n",
      "End of Scrolling for sacramento.\n",
      "Total HTML fragments collected: 340\n",
      "Final scroll count: 339\n",
      "💾 HTML saved to C:\\Users\\Mohamed\\Craiglist_Project2\\outputs\\html_dumps\\sacramento_craiglist_html_dump.txt\n",
      "Scraping: https://austin.craigslist.org/search/cta?bundleDuplicates=1\n",
      "Scroll #100 for https://austin.craigslist.org/search/cta?bundleDuplicates=1\n",
      "End of Scrolling for austin.\n",
      "Total HTML fragments collected: 124\n",
      "Final scroll count: 123\n",
      "💾 HTML saved to C:\\Users\\Mohamed\\Craiglist_Project2\\outputs\\html_dumps\\austin_craiglist_html_dump.txt\n",
      "Scraping: https://minneapolis.craigslist.org/search/cta?bundleDuplicates=1\n",
      "Scroll #100 for https://minneapolis.craigslist.org/search/cta?bundleDuplicates=1\n",
      "Scroll #200 for https://minneapolis.craigslist.org/search/cta?bundleDuplicates=1\n",
      "End of Scrolling for minneapolis.\n",
      "Total HTML fragments collected: 270\n",
      "Final scroll count: 269\n",
      "💾 HTML saved to C:\\Users\\Mohamed\\Craiglist_Project2\\outputs\\html_dumps\\minneapolis_craiglist_html_dump.txt\n",
      "Scraping: https://philadelphia.craigslist.org/search/cta?bundleDuplicates=1\n",
      "End of Scrolling for philadelphia.\n",
      "Total HTML fragments collected: 81\n",
      "Final scroll count: 80\n",
      "💾 HTML saved to C:\\Users\\Mohamed\\Craiglist_Project2\\outputs\\html_dumps\\philadelphia_craiglist_html_dump.txt\n"
     ]
    }
   ],
   "source": [
    "for city, url in zip(cities, URLs):\n",
    "    time.sleep(1.5)\n",
    "    try:\n",
    "        scrap_url(city, url, driver, pause_time=0.05)\n",
    "    except Exception as e:\n",
    "        print(f\"Error scraping {city}: {e}\")\n",
    "\n",
    "driver.quit()"
   ]
  },
  {
   "cell_type": "markdown",
   "id": "e0e6e4ef-ce4b-4951-bdf9-7ce0ea8c929b",
   "metadata": {},
   "source": [
    "## Extract Listing URLs for Each City\n",
    "\n",
    "Now that we've successfully saved the full HTML content for each city, it's time to dig into it.\n",
    "\n",
    "Craigslist’s **search results page** offers limited information — typically just the **title**, **price**, and a **link** to the full listing. But that link is key\n",
    "\n",
    "We’ll extract **every listing URL** from the HTML and use them as **unique identifiers** throughout the project.\n",
    "\n",
    "- It will allow us to **avoid duplicates**.\n",
    "- It gives us a direct path to the full listing page, where the **real data** is: <ins>make, model, year, condition, mileage, seller type, etc</ins>.\n"
   ]
  },
  {
   "cell_type": "code",
   "execution_count": 44,
   "id": "ae425aef-d957-44a6-822f-1328a950d69f",
   "metadata": {},
   "outputs": [
    {
     "name": "stdout",
     "output_type": "stream",
     "text": [
      "✅ 110454 links extracted from atlanta_craiglist_html_dump.txt\n",
      "✅ 73070 links extracted from austin_craiglist_html_dump.txt\n",
      "✅ 79544 links extracted from boston_craiglist_html_dump.txt\n",
      "✅ 111416 links extracted from chicago_craiglist_html_dump.txt\n",
      "✅ 196972 links extracted from dallas_craiglist_html_dump.txt\n",
      "✅ 215224 links extracted from denver_craiglist_html_dump.txt\n",
      "✅ 101728 links extracted from inlandempire_craiglist_html_dump.txt\n",
      "✅ 197676 links extracted from losangeles_craiglist_html_dump.txt\n",
      "✅ 210965 links extracted from miami_craiglist_html_dump.txt\n",
      "✅ 160586 links extracted from minneapolis_craiglist_html_dump.txt\n",
      "✅ 129410 links extracted from newyork_craiglist_html_dump.txt\n",
      "✅ 107242 links extracted from orangecounty_craiglist_html_dump.txt\n",
      "✅ 47050 links extracted from philadelphia_craiglist_html_dump.txt\n",
      "✅ 215503 links extracted from phoenix_craiglist_html_dump.txt\n",
      "✅ 192434 links extracted from portland_craiglist_html_dump.txt\n",
      "✅ 201775 links extracted from sacramento_craiglist_html_dump.txt\n",
      "✅ 180218 links extracted from sandiego_craiglist_html_dump.txt\n",
      "✅ 211624 links extracted from seattle_craiglist_html_dump.txt\n",
      "✅ 217384 links extracted from sfbay_craiglist_html_dump.txt\n",
      "✅ 0 links extracted from washingtondc_craiglist_html_dump.txt\n",
      "💾 130657 unique links stored in 'C:\\Users\\Mohamed\\Craiglist_Project2\\outputs\\craiglist_listings_list.txt'\n"
     ]
    }
   ],
   "source": [
    "import re\n",
    "from pathlib import Path\n",
    "\n",
    "def extract_links(html_dir=Path(\"../outputs/html_dumps\"), output_path=Path(\"../outputs/craiglist_listings_list.txt\")):\n",
    "    \"\"\"\n",
    "    Extracts all Craigslist listing links from *_html_dump.txt files in the specified directory.\n",
    "    Removes duplicates and writes a combined list to a .txt file.\n",
    "    \"\"\"\n",
    "    listing_url_pattern = r'href=\"(https://[a-z]+\\.craigslist\\.org[^\"]+?\\.html)\"'\n",
    "    all_links = set()\n",
    "\n",
    "    html_files = list(html_dir.glob(\"*_html_dump.txt\"))\n",
    "    if not html_files:\n",
    "        print(f\"No HTML dump files found in {html_dir.resolve()}\")\n",
    "        return\n",
    "\n",
    "    for file in html_files:\n",
    "        try:\n",
    "            content = file.read_text(encoding=\"utf-8\")\n",
    "            links = re.findall(listing_url_pattern, content)\n",
    "            all_links.update(links)\n",
    "            print(f\"✅ {len(links)} links extracted from {file.name}\")\n",
    "        except Exception as e:\n",
    "            print(f\"⚠️ Error reading {file.name}: {e}\")\n",
    "\n",
    "    # Create output directory if needed\n",
    "    output_path.parent.mkdir(parents=True, exist_ok=True)\n",
    "\n",
    "    # Write all links\n",
    "    output_path.write_text(\"\\n\".join(sorted(all_links)), encoding=\"utf-8\")\n",
    "    print(f\"💾 {len(all_links)} unique links stored in '{output_path.resolve()}'\")\n",
    "\n",
    "extract_links()"
   ]
  },
  {
   "cell_type": "markdown",
   "id": "5dcb12d3-2939-4be0-8629-6a6998122de6",
   "metadata": {},
   "source": [
    "We now have **all the links of the current car listings for the selected cities**. We can save it in separated .txt file :`craiglist_listings_list.txt`"
   ]
  },
  {
   "cell_type": "code",
   "execution_count": 40,
   "id": "cf791a56-4193-4076-9b03-68f40e586f1c",
   "metadata": {
    "scrolled": true
   },
   "outputs": [],
   "source": [
    "link_path = Path(\"../outputs/craiglist_listings_list.txt\")\n",
    "with link_path.open(\"r\", encoding=\"utf-8\") as f:\n",
    "    all_links = [line.strip() for line in f]"
   ]
  },
  {
   "cell_type": "markdown",
   "id": "11a37dee-5818-4585-b860-4fc8cf6410b8",
   "metadata": {},
   "source": [
    "At this stage, we’ve successfully extracted all **unique URLs** for car and truck listings across the selected Craigslist city pages.\n",
    "These links will serve as **primary keys** for the rest of the pipeline.\n",
    "\n",
    "By retrieving the listing URLs early, we avoid duplicates and gain the ability to **scrape detailed data** from individual listings in a structured and scalable way.\n"
   ]
  },
  {
   "cell_type": "markdown",
   "id": "fb9fd0ff-83c0-4f8e-9759-1e364c121bfb",
   "metadata": {},
   "source": [
    "## Scrap a listing (Finally!)\n",
    "In the next and last phase of this section, we’ll explore the HTML content of each listing page to extract **structured attributes** such as:\n",
    "\n",
    "- Title and price.\n",
    "- Vehicle year, make, and model.\n",
    "- Odometer.  \n",
    "- Transmission and cylinder info.\n",
    "- Location and seller type.\n",
    "- Description;\n",
    "\n",
    "This data will then be stored in a clean dataset ready for **analysis** and **model training**."
   ]
  },
  {
   "cell_type": "code",
   "execution_count": 47,
   "id": "cc845c23-8c1f-4f99-bc66-05d6edb7efe0",
   "metadata": {},
   "outputs": [],
   "source": [
    "def get_listing_data(url):\n",
    "    try:\n",
    "        response = requests.get(url, timeout=10)\n",
    "        soup = BeautifulSoup(response.text, \"html.parser\")\n",
    "\n",
    "        def get_text(selector):\n",
    "            el = soup.select_one(selector)\n",
    "            return el.get_text(strip=True) if el else None\n",
    "\n",
    "        def get_labeled_value(label):\n",
    "            try:\n",
    "                span_label = soup.find(\"span\", class_=\"labl\", string=lambda s: s and s.strip().lower() == label.lower())\n",
    "                if span_label:\n",
    "                    return span_label.find_next_sibling(\"span\", class_=\"valu\").get_text(strip=True)\n",
    "            except:\n",
    "                return None\n",
    "\n",
    "        # Location\n",
    "        title = get_text(\"#titletextonly\")\n",
    "        price = get_text(\".price\")\n",
    "        location = None\n",
    "        title_span = soup.select_one(\"span.postingtitletext\")\n",
    "        if title_span:\n",
    "            match = re.search(r'\\((.*?)\\)', title_span.get_text())\n",
    "            if match:\n",
    "                location = match.group(1)\n",
    "\n",
    "        # Listing date\n",
    "        posted_at = None\n",
    "        time_tag = soup.select_one(\"time.date\")\n",
    "        if time_tag and time_tag.has_attr(\"datetime\"):\n",
    "            posted_at = time_tag[\"datetime\"][:10]\n",
    "\n",
    "        return {\n",
    "            \"url\": url,\n",
    "            \"title\": title,\n",
    "            \"price\": price,\n",
    "            \"location\": location,\n",
    "            \"year\": get_text(\".valu.year\"),\n",
    "            \"makemodel\": get_text(\".valu.makemodel\"),\n",
    "            \"condition\": get_labeled_value(\"condition:\"),\n",
    "            \"cylinders\": get_labeled_value(\"cylinders:\"),\n",
    "            \"drive\": get_labeled_value(\"drive:\"),\n",
    "            \"fuel\": get_labeled_value(\"fuel:\"),\n",
    "            \"odometer\": get_labeled_value(\"odometer:\"),\n",
    "            \"paint_color\": get_labeled_value(\"paint color:\"),\n",
    "            \"title_status\": get_labeled_value(\"title status:\"),\n",
    "            \"transmission\": get_labeled_value(\"transmission:\"),\n",
    "            \"type\": get_labeled_value(\"type:\"),\n",
    "            \"posted_at\": posted_at\n",
    "        }\n",
    "\n",
    "    except Exception as e:\n",
    "        print(f\"Error on {url} : {e}\")\n",
    "        return None"
   ]
  },
  {
   "cell_type": "code",
   "execution_count": null,
   "id": "49456200-0b5b-43dc-bc20-bebceb9a7575",
   "metadata": {
    "scrolled": true
   },
   "outputs": [],
   "source": [
    "from tqdm import tqdm\n",
    "import time\n",
    "import random   \n",
    "import requests\n",
    "\n",
    "results = []\n",
    "for url in tqdm(all_links, desc=\"Scraping des annonces\"):\n",
    "    data = get_listing_data(url)\n",
    "    if data:\n",
    "        results.append(data)\n",
    "    time.sleep(random.uniform(0.2,1.5))  "
   ]
  },
  {
   "cell_type": "code",
   "execution_count": 56,
   "id": "4b4cca51-01ca-43bb-af32-61986b488680",
   "metadata": {},
   "outputs": [],
   "source": [
    "def clean_results(results):\n",
    "    # Delete empty links\n",
    "    results[:] = [entry for entry in results if entry.get('title') is not None]\n",
    "\n",
    "    # Add the region info\n",
    "    for entry in results:\n",
    "        try:\n",
    "            region = entry['url'].split('//')[1].split('.')[0]\n",
    "            entry['region'] = region\n",
    "        except Exception:\n",
    "            entry['region'] = None\n",
    "clean_results(results)"
   ]
  },
  {
   "cell_type": "markdown",
   "id": "94efb2c7-a707-4732-b9e3-8024d4a90e7c",
   "metadata": {},
   "source": [
    "The scraping section is now completed. **We can export the output and start the analysis!**"
   ]
  },
  {
   "cell_type": "code",
   "execution_count": 60,
   "id": "80b98056-30ed-4cab-8251-9c969d095b79",
   "metadata": {},
   "outputs": [],
   "source": [
    "import csv\n",
    "\n",
    "with open(\"../outputs/craiglist_listings.csv\", \"w\", newline='', encoding=\"utf-8\") as f:\n",
    "    writer = csv.DictWriter(f, fieldnames=results[0].keys())\n",
    "    writer.writeheader()\n",
    "    writer.writerows(results)"
   ]
  },
  {
   "cell_type": "code",
   "execution_count": 93,
   "id": "cf76a1aa-b0b1-43e6-a757-5f2a1b76a682",
   "metadata": {},
   "outputs": [
    {
     "data": {
      "text/plain": [
       "WindowsPath('../data/craiglist_listings.csv')"
      ]
     },
     "execution_count": 93,
     "metadata": {},
     "output_type": "execute_result"
    }
   ],
   "source": [
    "import shutil\n",
    "from pathlib import Path\n",
    "\n",
    "shutil.copy2(Path(\"../outputs/craiglist_listings.csv\"), Path(\"../data/craiglist_listings.csv\"))"
   ]
  },
  {
   "cell_type": "markdown",
   "id": "71a54ad4-ed62-49d1-b25d-b341b6c042ba",
   "metadata": {},
   "source": [
    "### Bonus: Listings mapped by region scrapped"
   ]
  },
  {
   "cell_type": "code",
   "execution_count": 91,
   "id": "5f945cb1-1c0b-4a01-838c-bf9ec78c563b",
   "metadata": {},
   "outputs": [
    {
     "data": {
      "text/html": [
       "<div>\n",
       "<style scoped>\n",
       "    .dataframe tbody tr th:only-of-type {\n",
       "        vertical-align: middle;\n",
       "    }\n",
       "\n",
       "    .dataframe tbody tr th {\n",
       "        vertical-align: top;\n",
       "    }\n",
       "\n",
       "    .dataframe thead th {\n",
       "        text-align: right;\n",
       "    }\n",
       "</style>\n",
       "<table border=\"1\" class=\"dataframe\">\n",
       "  <thead>\n",
       "    <tr style=\"text-align: right;\">\n",
       "      <th></th>\n",
       "      <th>url</th>\n",
       "      <th>title</th>\n",
       "      <th>price</th>\n",
       "      <th>location</th>\n",
       "      <th>year</th>\n",
       "      <th>makemodel</th>\n",
       "      <th>condition</th>\n",
       "      <th>cylinders</th>\n",
       "      <th>drive</th>\n",
       "      <th>fuel</th>\n",
       "      <th>odometer</th>\n",
       "      <th>paint_color</th>\n",
       "      <th>title_status</th>\n",
       "      <th>transmission</th>\n",
       "      <th>type</th>\n",
       "      <th>posted_at</th>\n",
       "      <th>region</th>\n",
       "    </tr>\n",
       "  </thead>\n",
       "  <tbody>\n",
       "    <tr>\n",
       "      <th>128014</th>\n",
       "      <td>https://sfbay.craigslist.org/sfc/cto/d/santa-c...</td>\n",
       "      <td>2008 Ford F350 Lariat Pickup Truck</td>\n",
       "      <td>$35,000</td>\n",
       "      <td>Santa Cruz</td>\n",
       "      <td>2008.0</td>\n",
       "      <td>ford f350 super duty lariat</td>\n",
       "      <td>NaN</td>\n",
       "      <td>8 cylinders</td>\n",
       "      <td>4wd</td>\n",
       "      <td>diesel</td>\n",
       "      <td>362,806</td>\n",
       "      <td>brown</td>\n",
       "      <td>clean</td>\n",
       "      <td>automatic</td>\n",
       "      <td>pickup</td>\n",
       "      <td>2025-06-28</td>\n",
       "      <td>sfbay</td>\n",
       "    </tr>\n",
       "    <tr>\n",
       "      <th>128015</th>\n",
       "      <td>https://sfbay.craigslist.org/sfc/cto/d/seaside...</td>\n",
       "      <td>2020 BMW M340I</td>\n",
       "      <td>$35,900</td>\n",
       "      <td>NaN</td>\n",
       "      <td>2020.0</td>\n",
       "      <td>bmw m340i</td>\n",
       "      <td>excellent</td>\n",
       "      <td>6 cylinders</td>\n",
       "      <td>rwd</td>\n",
       "      <td>gas</td>\n",
       "      <td>73,000</td>\n",
       "      <td>white</td>\n",
       "      <td>clean</td>\n",
       "      <td>automatic</td>\n",
       "      <td>sedan</td>\n",
       "      <td>2025-06-28</td>\n",
       "      <td>sfbay</td>\n",
       "    </tr>\n",
       "    <tr>\n",
       "      <th>128016</th>\n",
       "      <td>https://sfbay.craigslist.org/sfc/cto/d/shafter...</td>\n",
       "      <td>2004 Mercedes s55 AMG</td>\n",
       "      <td>$10,500</td>\n",
       "      <td>Shafter</td>\n",
       "      <td>2004.0</td>\n",
       "      <td>Mercedes s55 amg</td>\n",
       "      <td>excellent</td>\n",
       "      <td>8 cylinders</td>\n",
       "      <td>NaN</td>\n",
       "      <td>gas</td>\n",
       "      <td>129,000</td>\n",
       "      <td>black</td>\n",
       "      <td>clean</td>\n",
       "      <td>automatic</td>\n",
       "      <td>sedan</td>\n",
       "      <td>2025-07-02</td>\n",
       "      <td>sfbay</td>\n",
       "    </tr>\n",
       "    <tr>\n",
       "      <th>128017</th>\n",
       "      <td>https://sfbay.craigslist.org/sfc/cto/d/south-s...</td>\n",
       "      <td>2011 Audi S4, Prestige</td>\n",
       "      <td>$15,800</td>\n",
       "      <td>San Francisco</td>\n",
       "      <td>2011.0</td>\n",
       "      <td>Audi S4</td>\n",
       "      <td>good</td>\n",
       "      <td>6 cylinders</td>\n",
       "      <td>4wd</td>\n",
       "      <td>gas</td>\n",
       "      <td>136,074</td>\n",
       "      <td>black</td>\n",
       "      <td>clean</td>\n",
       "      <td>automatic</td>\n",
       "      <td>sedan</td>\n",
       "      <td>2025-07-04</td>\n",
       "      <td>sfbay</td>\n",
       "    </tr>\n",
       "    <tr>\n",
       "      <th>128018</th>\n",
       "      <td>https://sfbay.craigslist.org/sfc/cto/d/south-s...</td>\n",
       "      <td>Car for Sale</td>\n",
       "      <td>$4,000</td>\n",
       "      <td>South San Francisco</td>\n",
       "      <td>2000.0</td>\n",
       "      <td>toyota corolla</td>\n",
       "      <td>good</td>\n",
       "      <td>4 cylinders</td>\n",
       "      <td>NaN</td>\n",
       "      <td>gas</td>\n",
       "      <td>150,000</td>\n",
       "      <td>NaN</td>\n",
       "      <td>clean</td>\n",
       "      <td>automatic</td>\n",
       "      <td>NaN</td>\n",
       "      <td>2025-06-28</td>\n",
       "      <td>sfbay</td>\n",
       "    </tr>\n",
       "  </tbody>\n",
       "</table>\n",
       "</div>"
      ],
      "text/plain": [
       "                                                      url  \\\n",
       "128014  https://sfbay.craigslist.org/sfc/cto/d/santa-c...   \n",
       "128015  https://sfbay.craigslist.org/sfc/cto/d/seaside...   \n",
       "128016  https://sfbay.craigslist.org/sfc/cto/d/shafter...   \n",
       "128017  https://sfbay.craigslist.org/sfc/cto/d/south-s...   \n",
       "128018  https://sfbay.craigslist.org/sfc/cto/d/south-s...   \n",
       "\n",
       "                                     title    price             location  \\\n",
       "128014  2008 Ford F350 Lariat Pickup Truck  $35,000           Santa Cruz   \n",
       "128015                      2020 BMW M340I  $35,900                  NaN   \n",
       "128016               2004 Mercedes s55 AMG  $10,500              Shafter   \n",
       "128017              2011 Audi S4, Prestige  $15,800        San Francisco   \n",
       "128018                        Car for Sale   $4,000  South San Francisco   \n",
       "\n",
       "          year                    makemodel  condition    cylinders drive  \\\n",
       "128014  2008.0  ford f350 super duty lariat        NaN  8 cylinders   4wd   \n",
       "128015  2020.0                    bmw m340i  excellent  6 cylinders   rwd   \n",
       "128016  2004.0             Mercedes s55 amg  excellent  8 cylinders   NaN   \n",
       "128017  2011.0                      Audi S4       good  6 cylinders   4wd   \n",
       "128018  2000.0               toyota corolla       good  4 cylinders   NaN   \n",
       "\n",
       "          fuel odometer paint_color title_status transmission    type  \\\n",
       "128014  diesel  362,806       brown        clean    automatic  pickup   \n",
       "128015     gas   73,000       white        clean    automatic   sedan   \n",
       "128016     gas  129,000       black        clean    automatic   sedan   \n",
       "128017     gas  136,074       black        clean    automatic   sedan   \n",
       "128018     gas  150,000         NaN        clean    automatic     NaN   \n",
       "\n",
       "         posted_at region  \n",
       "128014  2025-06-28  sfbay  \n",
       "128015  2025-06-28  sfbay  \n",
       "128016  2025-07-02  sfbay  \n",
       "128017  2025-07-04  sfbay  \n",
       "128018  2025-06-28  sfbay  "
      ]
     },
     "execution_count": 91,
     "metadata": {},
     "output_type": "execute_result"
    }
   ],
   "source": [
    "import pandas as pd\n",
    "\n",
    "df = pd.read_csv(\"../outputs/craiglist_listings.csv\")\n",
    "\n",
    "df.tail()"
   ]
  },
  {
   "cell_type": "markdown",
   "id": "b222eeec-fdba-4a16-ba47-6d03ec4be80a",
   "metadata": {},
   "source": [
    "We can visualise the **population of this study** by using **plotly** on a map."
   ]
  },
  {
   "cell_type": "code",
   "execution_count": 85,
   "id": "fed90b5f-3ba0-45de-bd77-3c65f41c7dfb",
   "metadata": {
    "scrolled": true
   },
   "outputs": [
    {
     "data": {
      "application/vnd.plotly.v1+json": {
       "config": {
        "plotlyServerURL": "https://plot.ly"
       },
       "data": [
        {
         "geo": "geo",
         "hovertemplate": "listings=%{marker.color}<br>region=%{text}<br>lat=%{lat}<br>lon=%{lon}<extra></extra>",
         "lat": {
          "_inputArray": {
           "0": 33.749,
           "1": 30.2672,
           "10": 40.7128,
           "11": 33.7175,
           "12": 39.9526,
           "13": 33.4484,
           "14": 45.5051,
           "15": 38.5816,
           "16": 32.7157,
           "17": 47.6062,
           "18": 37.7749,
           "2": 42.3601,
           "3": 41.8781,
           "4": 32.7767,
           "5": 39.7392,
           "6": 34.1083,
           "7": 34.0522,
           "8": 25.7617,
           "9": 44.9778,
           "bdata": "HVpkO9/fQEC/fR04Z0Q+QBKlvcEXLkVADk+vlGXwREDPZtXnamNAQAKaCBue3kNAEhQ/xtwNQUD0bFZ9rgZBQPtcbcX+wjlAsAPnjCh9RkBeS8gHPVtEQKRwPQrX20BAtRX7y+75Q0Bhw9MrZblAQNSa5h2nwEZAQ61p3nFKQ0Ck374OnFtAQOhqK/aXzUdA0NVW7C/jQkA=",
           "dtype": "f8",
           "shape": "19"
          },
          "bdata": "HVpkO9/fQEC/fR04Z0Q+QBKlvcEXLkVADk+vlGXwREDPZtXnamNAQAKaCBue3kNAEhQ/xtwNQUD0bFZ9rgZBQPtcbcX+wjlAsAPnjCh9RkBeS8gHPVtEQKRwPQrX20BAtRX7y+75Q0Bhw9MrZblAQNSa5h2nwEZAQ61p3nFKQ0Ck374OnFtAQOhqK/aXzUdA0NVW7C/jQkA=",
          "dtype": "f8"
         },
         "legendgroup": "",
         "lon": {
          "_inputArray": {
           "0": -84.388,
           "1": -97.7431,
           "10": -74.006,
           "11": -117.8311,
           "12": -75.1652,
           "13": -112.074,
           "14": -122.675,
           "15": -121.4944,
           "16": -117.1611,
           "17": -122.3321,
           "18": -122.4194,
           "2": -71.0589,
           "3": -87.6298,
           "4": -96.797,
           "5": -104.9903,
           "6": -117.2898,
           "7": -118.2437,
           "8": -80.1918,
           "9": -93.265,
           "bdata": "Rrbz/dQYVcAWak3zjm9YwABvgQTFw1HAVcGopE7oVcBeukkMAjNYwKVOQBNhP1rAX5hMFYxSXcBBguLHmI9dwNzXgXNGDFTAKVyPwvVQV8Cq8dJNYoBSwCntDb4wdV3AJlMFo5LKUsDb+X5qvARcwDMzMzMzq17AHcnlP6RfXsCu2F92T0pdwBrAWyBBlV7AUPwYc9eaXsA=",
           "dtype": "f8",
           "shape": "19"
          },
          "bdata": "Rrbz/dQYVcAWak3zjm9YwABvgQTFw1HAVcGopE7oVcBeukkMAjNYwKVOQBNhP1rAX5hMFYxSXcBBguLHmI9dwNzXgXNGDFTAKVyPwvVQV8Cq8dJNYoBSwCntDb4wdV3AJlMFo5LKUsDb+X5qvARcwDMzMzMzq17AHcnlP6RfXsCu2F92T0pdwBrAWyBBlV7AUPwYc9eaXsA=",
          "dtype": "f8"
         },
         "marker": {
          "color": {
           "_inputArray": {
            "0": 4903,
            "1": 3251,
            "10": 5584,
            "11": 4589,
            "12": 2054,
            "13": 8989,
            "14": 8261,
            "15": 8828,
            "16": 7497,
            "17": 9227,
            "18": 9232,
            "2": 3590,
            "3": 4935,
            "4": 8441,
            "5": 9362,
            "6": 4476,
            "7": 8584,
            "8": 9228,
            "9": 6988,
            "bdata": "JxOzDAYORxP5IJIkfBGIIQwkTBvQFe0RBggdI0UgfCJJHQskECQ=",
            "dtype": "i2",
            "shape": "19"
           },
           "bdata": "JxOzDAYORxP5IJIkfBGIIQwkTBvQFe0RBggdI0UgfCJJHQskECQ=",
           "dtype": "i2"
          },
          "coloraxis": "coloraxis",
          "line": {
           "color": "gray",
           "width": 1
          },
          "opacity": 0.85,
          "size": {
           "_inputArray": {
            "0": 4903,
            "1": 3251,
            "10": 5584,
            "11": 4589,
            "12": 2054,
            "13": 8989,
            "14": 8261,
            "15": 8828,
            "16": 7497,
            "17": 9227,
            "18": 9232,
            "2": 3590,
            "3": 4935,
            "4": 8441,
            "5": 9362,
            "6": 4476,
            "7": 8584,
            "8": 9228,
            "9": 6988,
            "bdata": "JxOzDAYORxP5IJIkfBGIIQwkTBvQFe0RBggdI0UgfCJJHQskECQ=",
            "dtype": "i2",
            "shape": "19"
           },
           "bdata": "JxOzDAYORxP5IJIkfBGIIQwkTBvQFe0RBggdI0UgfCJJHQskECQ=",
           "dtype": "i2"
          },
          "sizemode": "area",
          "sizeref": 4.62320987654321,
          "symbol": "circle"
         },
         "mode": "markers+text",
         "name": "",
         "showlegend": false,
         "text": [
          "atlanta",
          "austin",
          "boston",
          "chicago",
          "dallas",
          "denver",
          "inlandempire",
          "losangeles",
          "miami",
          "minneapolis",
          "newyork",
          "orangecounty",
          "philadelphia",
          "phoenix",
          "portland",
          "sacramento",
          "sandiego",
          "seattle",
          "sfbay"
         ],
         "textposition": "top center",
         "type": "scattergeo"
        }
       ],
       "layout": {
        "coloraxis": {
         "colorbar": {
          "title": {
           "text": "Cars Listings"
          }
         },
         "colorscale": [
          [
           0,
           "rgb(247,251,255)"
          ],
          [
           0.125,
           "rgb(222,235,247)"
          ],
          [
           0.25,
           "rgb(198,219,239)"
          ],
          [
           0.375,
           "rgb(158,202,225)"
          ],
          [
           0.5,
           "rgb(107,174,214)"
          ],
          [
           0.625,
           "rgb(66,146,198)"
          ],
          [
           0.75,
           "rgb(33,113,181)"
          ],
          [
           0.875,
           "rgb(8,81,156)"
          ],
          [
           1,
           "rgb(8,48,107)"
          ]
         ]
        },
        "font": {
         "family": "Arial",
         "size": 14
        },
        "geo": {
         "center": {
          "lat": 39.42272568924102,
          "lon": -104.37659459657056
         },
         "domain": {
          "x": [
           0,
           1
          ],
          "y": [
           0,
           1
          ]
         },
         "lakecolor": "white",
         "landcolor": "rgb(240,240,240)",
         "projection": {
          "scale": 1.5157165665103982,
          "type": "albers usa"
         },
         "scope": "usa",
         "showlakes": true,
         "showland": true,
         "subunitcolor": "rgb(200,200,200)"
        },
        "height": 680,
        "legend": {
         "itemsizing": "constant",
         "tracegroupgap": 0
        },
        "margin": {
         "b": 0,
         "l": 0,
         "r": 0,
         "t": 80
        },
        "template": {
         "data": {
          "bar": [
           {
            "error_x": {
             "color": "#2a3f5f"
            },
            "error_y": {
             "color": "#2a3f5f"
            },
            "marker": {
             "line": {
              "color": "white",
              "width": 0.5
             },
             "pattern": {
              "fillmode": "overlay",
              "size": 10,
              "solidity": 0.2
             }
            },
            "type": "bar"
           }
          ],
          "barpolar": [
           {
            "marker": {
             "line": {
              "color": "white",
              "width": 0.5
             },
             "pattern": {
              "fillmode": "overlay",
              "size": 10,
              "solidity": 0.2
             }
            },
            "type": "barpolar"
           }
          ],
          "carpet": [
           {
            "aaxis": {
             "endlinecolor": "#2a3f5f",
             "gridcolor": "#C8D4E3",
             "linecolor": "#C8D4E3",
             "minorgridcolor": "#C8D4E3",
             "startlinecolor": "#2a3f5f"
            },
            "baxis": {
             "endlinecolor": "#2a3f5f",
             "gridcolor": "#C8D4E3",
             "linecolor": "#C8D4E3",
             "minorgridcolor": "#C8D4E3",
             "startlinecolor": "#2a3f5f"
            },
            "type": "carpet"
           }
          ],
          "choropleth": [
           {
            "colorbar": {
             "outlinewidth": 0,
             "ticks": ""
            },
            "type": "choropleth"
           }
          ],
          "contour": [
           {
            "colorbar": {
             "outlinewidth": 0,
             "ticks": ""
            },
            "colorscale": [
             [
              0,
              "#0d0887"
             ],
             [
              0.1111111111111111,
              "#46039f"
             ],
             [
              0.2222222222222222,
              "#7201a8"
             ],
             [
              0.3333333333333333,
              "#9c179e"
             ],
             [
              0.4444444444444444,
              "#bd3786"
             ],
             [
              0.5555555555555556,
              "#d8576b"
             ],
             [
              0.6666666666666666,
              "#ed7953"
             ],
             [
              0.7777777777777778,
              "#fb9f3a"
             ],
             [
              0.8888888888888888,
              "#fdca26"
             ],
             [
              1,
              "#f0f921"
             ]
            ],
            "type": "contour"
           }
          ],
          "contourcarpet": [
           {
            "colorbar": {
             "outlinewidth": 0,
             "ticks": ""
            },
            "type": "contourcarpet"
           }
          ],
          "heatmap": [
           {
            "colorbar": {
             "outlinewidth": 0,
             "ticks": ""
            },
            "colorscale": [
             [
              0,
              "#0d0887"
             ],
             [
              0.1111111111111111,
              "#46039f"
             ],
             [
              0.2222222222222222,
              "#7201a8"
             ],
             [
              0.3333333333333333,
              "#9c179e"
             ],
             [
              0.4444444444444444,
              "#bd3786"
             ],
             [
              0.5555555555555556,
              "#d8576b"
             ],
             [
              0.6666666666666666,
              "#ed7953"
             ],
             [
              0.7777777777777778,
              "#fb9f3a"
             ],
             [
              0.8888888888888888,
              "#fdca26"
             ],
             [
              1,
              "#f0f921"
             ]
            ],
            "type": "heatmap"
           }
          ],
          "histogram": [
           {
            "marker": {
             "pattern": {
              "fillmode": "overlay",
              "size": 10,
              "solidity": 0.2
             }
            },
            "type": "histogram"
           }
          ],
          "histogram2d": [
           {
            "colorbar": {
             "outlinewidth": 0,
             "ticks": ""
            },
            "colorscale": [
             [
              0,
              "#0d0887"
             ],
             [
              0.1111111111111111,
              "#46039f"
             ],
             [
              0.2222222222222222,
              "#7201a8"
             ],
             [
              0.3333333333333333,
              "#9c179e"
             ],
             [
              0.4444444444444444,
              "#bd3786"
             ],
             [
              0.5555555555555556,
              "#d8576b"
             ],
             [
              0.6666666666666666,
              "#ed7953"
             ],
             [
              0.7777777777777778,
              "#fb9f3a"
             ],
             [
              0.8888888888888888,
              "#fdca26"
             ],
             [
              1,
              "#f0f921"
             ]
            ],
            "type": "histogram2d"
           }
          ],
          "histogram2dcontour": [
           {
            "colorbar": {
             "outlinewidth": 0,
             "ticks": ""
            },
            "colorscale": [
             [
              0,
              "#0d0887"
             ],
             [
              0.1111111111111111,
              "#46039f"
             ],
             [
              0.2222222222222222,
              "#7201a8"
             ],
             [
              0.3333333333333333,
              "#9c179e"
             ],
             [
              0.4444444444444444,
              "#bd3786"
             ],
             [
              0.5555555555555556,
              "#d8576b"
             ],
             [
              0.6666666666666666,
              "#ed7953"
             ],
             [
              0.7777777777777778,
              "#fb9f3a"
             ],
             [
              0.8888888888888888,
              "#fdca26"
             ],
             [
              1,
              "#f0f921"
             ]
            ],
            "type": "histogram2dcontour"
           }
          ],
          "mesh3d": [
           {
            "colorbar": {
             "outlinewidth": 0,
             "ticks": ""
            },
            "type": "mesh3d"
           }
          ],
          "parcoords": [
           {
            "line": {
             "colorbar": {
              "outlinewidth": 0,
              "ticks": ""
             }
            },
            "type": "parcoords"
           }
          ],
          "pie": [
           {
            "automargin": true,
            "type": "pie"
           }
          ],
          "scatter": [
           {
            "fillpattern": {
             "fillmode": "overlay",
             "size": 10,
             "solidity": 0.2
            },
            "type": "scatter"
           }
          ],
          "scatter3d": [
           {
            "line": {
             "colorbar": {
              "outlinewidth": 0,
              "ticks": ""
             }
            },
            "marker": {
             "colorbar": {
              "outlinewidth": 0,
              "ticks": ""
             }
            },
            "type": "scatter3d"
           }
          ],
          "scattercarpet": [
           {
            "marker": {
             "colorbar": {
              "outlinewidth": 0,
              "ticks": ""
             }
            },
            "type": "scattercarpet"
           }
          ],
          "scattergeo": [
           {
            "marker": {
             "colorbar": {
              "outlinewidth": 0,
              "ticks": ""
             }
            },
            "type": "scattergeo"
           }
          ],
          "scattergl": [
           {
            "marker": {
             "colorbar": {
              "outlinewidth": 0,
              "ticks": ""
             }
            },
            "type": "scattergl"
           }
          ],
          "scattermap": [
           {
            "marker": {
             "colorbar": {
              "outlinewidth": 0,
              "ticks": ""
             }
            },
            "type": "scattermap"
           }
          ],
          "scattermapbox": [
           {
            "marker": {
             "colorbar": {
              "outlinewidth": 0,
              "ticks": ""
             }
            },
            "type": "scattermapbox"
           }
          ],
          "scatterpolar": [
           {
            "marker": {
             "colorbar": {
              "outlinewidth": 0,
              "ticks": ""
             }
            },
            "type": "scatterpolar"
           }
          ],
          "scatterpolargl": [
           {
            "marker": {
             "colorbar": {
              "outlinewidth": 0,
              "ticks": ""
             }
            },
            "type": "scatterpolargl"
           }
          ],
          "scatterternary": [
           {
            "marker": {
             "colorbar": {
              "outlinewidth": 0,
              "ticks": ""
             }
            },
            "type": "scatterternary"
           }
          ],
          "surface": [
           {
            "colorbar": {
             "outlinewidth": 0,
             "ticks": ""
            },
            "colorscale": [
             [
              0,
              "#0d0887"
             ],
             [
              0.1111111111111111,
              "#46039f"
             ],
             [
              0.2222222222222222,
              "#7201a8"
             ],
             [
              0.3333333333333333,
              "#9c179e"
             ],
             [
              0.4444444444444444,
              "#bd3786"
             ],
             [
              0.5555555555555556,
              "#d8576b"
             ],
             [
              0.6666666666666666,
              "#ed7953"
             ],
             [
              0.7777777777777778,
              "#fb9f3a"
             ],
             [
              0.8888888888888888,
              "#fdca26"
             ],
             [
              1,
              "#f0f921"
             ]
            ],
            "type": "surface"
           }
          ],
          "table": [
           {
            "cells": {
             "fill": {
              "color": "#EBF0F8"
             },
             "line": {
              "color": "white"
             }
            },
            "header": {
             "fill": {
              "color": "#C8D4E3"
             },
             "line": {
              "color": "white"
             }
            },
            "type": "table"
           }
          ]
         },
         "layout": {
          "annotationdefaults": {
           "arrowcolor": "#2a3f5f",
           "arrowhead": 0,
           "arrowwidth": 1
          },
          "autotypenumbers": "strict",
          "coloraxis": {
           "colorbar": {
            "outlinewidth": 0,
            "ticks": ""
           }
          },
          "colorscale": {
           "diverging": [
            [
             0,
             "#8e0152"
            ],
            [
             0.1,
             "#c51b7d"
            ],
            [
             0.2,
             "#de77ae"
            ],
            [
             0.3,
             "#f1b6da"
            ],
            [
             0.4,
             "#fde0ef"
            ],
            [
             0.5,
             "#f7f7f7"
            ],
            [
             0.6,
             "#e6f5d0"
            ],
            [
             0.7,
             "#b8e186"
            ],
            [
             0.8,
             "#7fbc41"
            ],
            [
             0.9,
             "#4d9221"
            ],
            [
             1,
             "#276419"
            ]
           ],
           "sequential": [
            [
             0,
             "#0d0887"
            ],
            [
             0.1111111111111111,
             "#46039f"
            ],
            [
             0.2222222222222222,
             "#7201a8"
            ],
            [
             0.3333333333333333,
             "#9c179e"
            ],
            [
             0.4444444444444444,
             "#bd3786"
            ],
            [
             0.5555555555555556,
             "#d8576b"
            ],
            [
             0.6666666666666666,
             "#ed7953"
            ],
            [
             0.7777777777777778,
             "#fb9f3a"
            ],
            [
             0.8888888888888888,
             "#fdca26"
            ],
            [
             1,
             "#f0f921"
            ]
           ],
           "sequentialminus": [
            [
             0,
             "#0d0887"
            ],
            [
             0.1111111111111111,
             "#46039f"
            ],
            [
             0.2222222222222222,
             "#7201a8"
            ],
            [
             0.3333333333333333,
             "#9c179e"
            ],
            [
             0.4444444444444444,
             "#bd3786"
            ],
            [
             0.5555555555555556,
             "#d8576b"
            ],
            [
             0.6666666666666666,
             "#ed7953"
            ],
            [
             0.7777777777777778,
             "#fb9f3a"
            ],
            [
             0.8888888888888888,
             "#fdca26"
            ],
            [
             1,
             "#f0f921"
            ]
           ]
          },
          "colorway": [
           "#636efa",
           "#EF553B",
           "#00cc96",
           "#ab63fa",
           "#FFA15A",
           "#19d3f3",
           "#FF6692",
           "#B6E880",
           "#FF97FF",
           "#FECB52"
          ],
          "font": {
           "color": "#2a3f5f"
          },
          "geo": {
           "bgcolor": "white",
           "lakecolor": "white",
           "landcolor": "white",
           "showlakes": true,
           "showland": true,
           "subunitcolor": "#C8D4E3"
          },
          "hoverlabel": {
           "align": "left"
          },
          "hovermode": "closest",
          "mapbox": {
           "style": "light"
          },
          "paper_bgcolor": "white",
          "plot_bgcolor": "white",
          "polar": {
           "angularaxis": {
            "gridcolor": "#EBF0F8",
            "linecolor": "#EBF0F8",
            "ticks": ""
           },
           "bgcolor": "white",
           "radialaxis": {
            "gridcolor": "#EBF0F8",
            "linecolor": "#EBF0F8",
            "ticks": ""
           }
          },
          "scene": {
           "xaxis": {
            "backgroundcolor": "white",
            "gridcolor": "#DFE8F3",
            "gridwidth": 2,
            "linecolor": "#EBF0F8",
            "showbackground": true,
            "ticks": "",
            "zerolinecolor": "#EBF0F8"
           },
           "yaxis": {
            "backgroundcolor": "white",
            "gridcolor": "#DFE8F3",
            "gridwidth": 2,
            "linecolor": "#EBF0F8",
            "showbackground": true,
            "ticks": "",
            "zerolinecolor": "#EBF0F8"
           },
           "zaxis": {
            "backgroundcolor": "white",
            "gridcolor": "#DFE8F3",
            "gridwidth": 2,
            "linecolor": "#EBF0F8",
            "showbackground": true,
            "ticks": "",
            "zerolinecolor": "#EBF0F8"
           }
          },
          "shapedefaults": {
           "line": {
            "color": "#2a3f5f"
           }
          },
          "ternary": {
           "aaxis": {
            "gridcolor": "#DFE8F3",
            "linecolor": "#A2B1C6",
            "ticks": ""
           },
           "baxis": {
            "gridcolor": "#DFE8F3",
            "linecolor": "#A2B1C6",
            "ticks": ""
           },
           "bgcolor": "white",
           "caxis": {
            "gridcolor": "#DFE8F3",
            "linecolor": "#A2B1C6",
            "ticks": ""
           }
          },
          "title": {
           "x": 0.05
          },
          "xaxis": {
           "automargin": true,
           "gridcolor": "#EBF0F8",
           "linecolor": "#EBF0F8",
           "ticks": "",
           "title": {
            "standoff": 15
           },
           "zerolinecolor": "#EBF0F8",
           "zerolinewidth": 2
          },
          "yaxis": {
           "automargin": true,
           "gridcolor": "#EBF0F8",
           "linecolor": "#EBF0F8",
           "ticks": "",
           "title": {
            "standoff": 15
           },
           "zerolinecolor": "#EBF0F8",
           "zerolinewidth": 2
          }
         }
        },
        "title": {
         "text": "Over 128,019 Craigslist Listings Scraped – Visualized by US City",
         "x": 0.5
        },
        "width": 1100
       }
      },
      "image/png": "[encoded data removed]"
     },
     "metadata": {},
     "output_type": "display_data"
    },
    {
     "name": "stdout",
     "output_type": "stream",
     "text": [
      "Map saved to: C:\\Users\\Mohamed\\Craiglist_Project2\\outputs\\visuals\\craigslist_listings_map.png\n"
     ]
    }
   ],
   "source": [
    "import plotly.express as px\n",
    "\n",
    "coordinates = {\n",
    "    'atlanta': (33.7490, -84.3880),\n",
    "    'austin': (30.2672, -97.7431),\n",
    "    'boston': (42.3601, -71.0589),\n",
    "    'chicago': (41.8781, -87.6298),\n",
    "    'dallas': (32.7767, -96.7970),\n",
    "    'denver': (39.7392, -104.9903),\n",
    "    'inlandempire': (34.1083, -117.2898),\n",
    "    'losangeles': (34.0522, -118.2437),\n",
    "    'miami': (25.7617, -80.1918),\n",
    "    'minneapolis': (44.9778, -93.2650),\n",
    "    'newyork': (40.7128, -74.0060),\n",
    "    'orangecounty': (33.7175, -117.8311),\n",
    "    'philadelphia': (39.9526, -75.1652),\n",
    "    'phoenix': (33.4484, -112.0740),\n",
    "    'portland': (45.5051, -122.6750),\n",
    "    'sacramento': (38.5816, -121.4944),\n",
    "    'sandiego': (32.7157, -117.1611),\n",
    "    'seattle': (47.6062, -122.3321),\n",
    "    'sfbay': (37.7749, -122.4194),\n",
    "    'washingtondc': (38.9072, -77.0369)\n",
    "}\n",
    "\n",
    "df_map = df.groupby('region').size().reset_index()\n",
    "df_map.columns = ['region', 'listings']\n",
    "df_map['lat'] = df_map['region'].map(lambda r: coordinates[r][0])\n",
    "df_map['lon'] = df_map['region'].map(lambda r: coordinates[r][1])\n",
    "total_listings = df_map['listings'].sum()\n",
    "\n",
    "fig = px.scatter_geo(\n",
    "    df_map,\n",
    "    lat='lat',\n",
    "    lon='lon',\n",
    "    text='region',\n",
    "    size='listings',\n",
    "    color='listings',\n",
    "    color_continuous_scale='Blues',\n",
    "    size_max=45,\n",
    "    scope='usa',\n",
    "    projection='albers usa',\n",
    "    title=f\"Over {total_listings:,} Craigslist Listings Scraped – Visualized by US City\",\n",
    "    template='plotly_white'\n",
    ")\n",
    "\n",
    "fig.update_traces(\n",
    "    textposition='top center',\n",
    "    marker=dict(opacity=0.85, line=dict(width=1, color='gray'))\n",
    ")\n",
    "\n",
    "fig.update_layout(\n",
    "    width=1100,\n",
    "    height=680,\n",
    "    geo=dict(\n",
    "        showland=True,\n",
    "        landcolor=\"rgb(240,240,240)\",\n",
    "        lakecolor=\"white\",\n",
    "        subunitcolor=\"rgb(200,200,200)\",\n",
    "        showlakes=True\n",
    "    ),\n",
    "    coloraxis_colorbar=dict(title=\"Cars Listings\"),\n",
    "    margin=dict(l=0, r=0, t=80, b=0),\n",
    "    font=dict(family=\"Arial\", size=14),\n",
    "    title_x=0.5\n",
    ")\n",
    "\n",
    "fig.show()\n",
    "\n",
    "output_path = Path(\"../outputs/visuals/craigslist_listings_map.png\")\n",
    "fig.write_image(output_path, scale=2)\n",
    "print(f\"Map saved to: {output_path.resolve()}\")\n"
   ]
  },
  {
   "cell_type": "code",
   "execution_count": null,
   "id": "5317d4e2-98eb-4d34-b66e-f639c23d8a87",
   "metadata": {},
   "outputs": [],
   "source": []
  }
 ],
 "metadata": {
  "kernelspec": {
   "display_name": "Python [conda env:base] *",
   "language": "python",
   "name": "conda-base-py"
  },
  "language_info": {
   "codemirror_mode": {
    "name": "ipython",
    "version": 3
   },
   "file_extension": ".py",
   "mimetype": "text/x-python",
   "name": "python",
   "nbconvert_exporter": "python",
   "pygments_lexer": "ipython3",
   "version": "3.12.7"
  }
 },
 "nbformat": 4,
 "nbformat_minor": 5
}
